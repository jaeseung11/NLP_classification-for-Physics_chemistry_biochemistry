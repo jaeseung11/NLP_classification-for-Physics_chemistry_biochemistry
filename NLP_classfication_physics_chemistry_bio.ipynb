{
  "nbformat": 4,
  "nbformat_minor": 0,
  "metadata": {
    "colab": {
      "provenance": [],
      "authorship_tag": "ABX9TyPNZMoDRqgf236kZbrfijEz"
    },
    "kernelspec": {
      "name": "python3",
      "display_name": "Python 3"
    },
    "language_info": {
      "name": "python"
    }
  },
  "cells": [
    {
      "cell_type": "markdown",
      "source": [
        "# 데이터 불러오기"
      ],
      "metadata": {
        "id": "pNUM76zy-sws"
      }
    },
    {
      "cell_type": "code",
      "execution_count": 45,
      "metadata": {
        "colab": {
          "base_uri": "https://localhost:8080/"
        },
        "id": "qt_Q7TRJ8i9p",
        "outputId": "8fcb6022-828b-424c-84c1-1d7fbaa0ffa6"
      },
      "outputs": [
        {
          "output_type": "stream",
          "name": "stdout",
          "text": [
            "Drive already mounted at /content/drive; to attempt to forcibly remount, call drive.mount(\"/content/drive\", force_remount=True).\n"
          ]
        }
      ],
      "source": [
        "from google.colab import drive\n",
        "drive.mount('/content/drive')"
      ]
    },
    {
      "cell_type": "code",
      "source": [
        "# 데이터분석 세트\n",
        "import numpy as np\n",
        "import pandas as pd\n",
        "import matplotlib.pyplot as plt\n",
        "import seaborn as sns"
      ],
      "metadata": {
        "id": "soUEcRHm92wK"
      },
      "execution_count": 46,
      "outputs": []
    },
    {
      "cell_type": "code",
      "source": [
        "# 데이터 불러오기\n",
        "base_path = \"/content/drive/MyDrive/Colab Notebooks/NLP_분류_물리_화학_생물학/\"    \n",
        "\n",
        "train_df = pd.read_csv(base_path + \"train.csv\", encoding=\"utf-8\" )\n",
        "test_df = pd.read_csv(base_path + \"test.csv\",  encoding=\"utf-8\")\n",
        "# submission = pd.read_csv(base_path + \"sample_submission.csv\",  encoding=\"utf-8\")"
      ],
      "metadata": {
        "id": "2A0qk_mb9XTc"
      },
      "execution_count": 47,
      "outputs": []
    },
    {
      "cell_type": "markdown",
      "source": [
        "# EDA"
      ],
      "metadata": {
        "id": "4qI8qcl6-mWX"
      }
    },
    {
      "cell_type": "code",
      "source": [
        "train_df"
      ],
      "metadata": {
        "colab": {
          "base_uri": "https://localhost:8080/",
          "height": 423
        },
        "id": "9u1ZuDuX-rlf",
        "outputId": "9458d6fa-3ade-4136-d304-a07378a40ff1"
      },
      "execution_count": 48,
      "outputs": [
        {
          "output_type": "execute_result",
          "data": {
            "text/plain": [
              "          Id                                            Comment      Topic\n",
              "0      0x840  A few things. You might have negative- frequen...    Biology\n",
              "1      0xbf0  Is it so hard to believe that there exist part...    Physics\n",
              "2     0x1dfc                                     There are bees    Biology\n",
              "3      0xc7e  I'm a medication technician. And that's alot o...    Biology\n",
              "4      0xbba                     Cesium is such a pretty metal.  Chemistry\n",
              "...      ...                                                ...        ...\n",
              "8690  0x1e02  I make similar observations over the last week...    Biology\n",
              "8691   0xc8d                                    You would know.    Biology\n",
              "8692   0x723            Also use the correct number of sig figs  Chemistry\n",
              "8693   0x667  What about the ethical delimmas,  groundbreaki...    Biology\n",
              "8694  0x1476                          I would like to know too.    Biology\n",
              "\n",
              "[8695 rows x 3 columns]"
            ],
            "text/html": [
              "\n",
              "  <div id=\"df-c65fc95a-af8d-4e80-9c7c-665ca3924bac\">\n",
              "    <div class=\"colab-df-container\">\n",
              "      <div>\n",
              "<style scoped>\n",
              "    .dataframe tbody tr th:only-of-type {\n",
              "        vertical-align: middle;\n",
              "    }\n",
              "\n",
              "    .dataframe tbody tr th {\n",
              "        vertical-align: top;\n",
              "    }\n",
              "\n",
              "    .dataframe thead th {\n",
              "        text-align: right;\n",
              "    }\n",
              "</style>\n",
              "<table border=\"1\" class=\"dataframe\">\n",
              "  <thead>\n",
              "    <tr style=\"text-align: right;\">\n",
              "      <th></th>\n",
              "      <th>Id</th>\n",
              "      <th>Comment</th>\n",
              "      <th>Topic</th>\n",
              "    </tr>\n",
              "  </thead>\n",
              "  <tbody>\n",
              "    <tr>\n",
              "      <th>0</th>\n",
              "      <td>0x840</td>\n",
              "      <td>A few things. You might have negative- frequen...</td>\n",
              "      <td>Biology</td>\n",
              "    </tr>\n",
              "    <tr>\n",
              "      <th>1</th>\n",
              "      <td>0xbf0</td>\n",
              "      <td>Is it so hard to believe that there exist part...</td>\n",
              "      <td>Physics</td>\n",
              "    </tr>\n",
              "    <tr>\n",
              "      <th>2</th>\n",
              "      <td>0x1dfc</td>\n",
              "      <td>There are bees</td>\n",
              "      <td>Biology</td>\n",
              "    </tr>\n",
              "    <tr>\n",
              "      <th>3</th>\n",
              "      <td>0xc7e</td>\n",
              "      <td>I'm a medication technician. And that's alot o...</td>\n",
              "      <td>Biology</td>\n",
              "    </tr>\n",
              "    <tr>\n",
              "      <th>4</th>\n",
              "      <td>0xbba</td>\n",
              "      <td>Cesium is such a pretty metal.</td>\n",
              "      <td>Chemistry</td>\n",
              "    </tr>\n",
              "    <tr>\n",
              "      <th>...</th>\n",
              "      <td>...</td>\n",
              "      <td>...</td>\n",
              "      <td>...</td>\n",
              "    </tr>\n",
              "    <tr>\n",
              "      <th>8690</th>\n",
              "      <td>0x1e02</td>\n",
              "      <td>I make similar observations over the last week...</td>\n",
              "      <td>Biology</td>\n",
              "    </tr>\n",
              "    <tr>\n",
              "      <th>8691</th>\n",
              "      <td>0xc8d</td>\n",
              "      <td>You would know.</td>\n",
              "      <td>Biology</td>\n",
              "    </tr>\n",
              "    <tr>\n",
              "      <th>8692</th>\n",
              "      <td>0x723</td>\n",
              "      <td>Also use the correct number of sig figs</td>\n",
              "      <td>Chemistry</td>\n",
              "    </tr>\n",
              "    <tr>\n",
              "      <th>8693</th>\n",
              "      <td>0x667</td>\n",
              "      <td>What about the ethical delimmas,  groundbreaki...</td>\n",
              "      <td>Biology</td>\n",
              "    </tr>\n",
              "    <tr>\n",
              "      <th>8694</th>\n",
              "      <td>0x1476</td>\n",
              "      <td>I would like to know too.</td>\n",
              "      <td>Biology</td>\n",
              "    </tr>\n",
              "  </tbody>\n",
              "</table>\n",
              "<p>8695 rows × 3 columns</p>\n",
              "</div>\n",
              "      <button class=\"colab-df-convert\" onclick=\"convertToInteractive('df-c65fc95a-af8d-4e80-9c7c-665ca3924bac')\"\n",
              "              title=\"Convert this dataframe to an interactive table.\"\n",
              "              style=\"display:none;\">\n",
              "        \n",
              "  <svg xmlns=\"http://www.w3.org/2000/svg\" height=\"24px\"viewBox=\"0 0 24 24\"\n",
              "       width=\"24px\">\n",
              "    <path d=\"M0 0h24v24H0V0z\" fill=\"none\"/>\n",
              "    <path d=\"M18.56 5.44l.94 2.06.94-2.06 2.06-.94-2.06-.94-.94-2.06-.94 2.06-2.06.94zm-11 1L8.5 8.5l.94-2.06 2.06-.94-2.06-.94L8.5 2.5l-.94 2.06-2.06.94zm10 10l.94 2.06.94-2.06 2.06-.94-2.06-.94-.94-2.06-.94 2.06-2.06.94z\"/><path d=\"M17.41 7.96l-1.37-1.37c-.4-.4-.92-.59-1.43-.59-.52 0-1.04.2-1.43.59L10.3 9.45l-7.72 7.72c-.78.78-.78 2.05 0 2.83L4 21.41c.39.39.9.59 1.41.59.51 0 1.02-.2 1.41-.59l7.78-7.78 2.81-2.81c.8-.78.8-2.07 0-2.86zM5.41 20L4 18.59l7.72-7.72 1.47 1.35L5.41 20z\"/>\n",
              "  </svg>\n",
              "      </button>\n",
              "      \n",
              "  <style>\n",
              "    .colab-df-container {\n",
              "      display:flex;\n",
              "      flex-wrap:wrap;\n",
              "      gap: 12px;\n",
              "    }\n",
              "\n",
              "    .colab-df-convert {\n",
              "      background-color: #E8F0FE;\n",
              "      border: none;\n",
              "      border-radius: 50%;\n",
              "      cursor: pointer;\n",
              "      display: none;\n",
              "      fill: #1967D2;\n",
              "      height: 32px;\n",
              "      padding: 0 0 0 0;\n",
              "      width: 32px;\n",
              "    }\n",
              "\n",
              "    .colab-df-convert:hover {\n",
              "      background-color: #E2EBFA;\n",
              "      box-shadow: 0px 1px 2px rgba(60, 64, 67, 0.3), 0px 1px 3px 1px rgba(60, 64, 67, 0.15);\n",
              "      fill: #174EA6;\n",
              "    }\n",
              "\n",
              "    [theme=dark] .colab-df-convert {\n",
              "      background-color: #3B4455;\n",
              "      fill: #D2E3FC;\n",
              "    }\n",
              "\n",
              "    [theme=dark] .colab-df-convert:hover {\n",
              "      background-color: #434B5C;\n",
              "      box-shadow: 0px 1px 3px 1px rgba(0, 0, 0, 0.15);\n",
              "      filter: drop-shadow(0px 1px 2px rgba(0, 0, 0, 0.3));\n",
              "      fill: #FFFFFF;\n",
              "    }\n",
              "  </style>\n",
              "\n",
              "      <script>\n",
              "        const buttonEl =\n",
              "          document.querySelector('#df-c65fc95a-af8d-4e80-9c7c-665ca3924bac button.colab-df-convert');\n",
              "        buttonEl.style.display =\n",
              "          google.colab.kernel.accessAllowed ? 'block' : 'none';\n",
              "\n",
              "        async function convertToInteractive(key) {\n",
              "          const element = document.querySelector('#df-c65fc95a-af8d-4e80-9c7c-665ca3924bac');\n",
              "          const dataTable =\n",
              "            await google.colab.kernel.invokeFunction('convertToInteractive',\n",
              "                                                     [key], {});\n",
              "          if (!dataTable) return;\n",
              "\n",
              "          const docLinkHtml = 'Like what you see? Visit the ' +\n",
              "            '<a target=\"_blank\" href=https://colab.research.google.com/notebooks/data_table.ipynb>data table notebook</a>'\n",
              "            + ' to learn more about interactive tables.';\n",
              "          element.innerHTML = '';\n",
              "          dataTable['output_type'] = 'display_data';\n",
              "          await google.colab.output.renderOutput(dataTable, element);\n",
              "          const docLink = document.createElement('div');\n",
              "          docLink.innerHTML = docLinkHtml;\n",
              "          element.appendChild(docLink);\n",
              "        }\n",
              "      </script>\n",
              "    </div>\n",
              "  </div>\n",
              "  "
            ]
          },
          "metadata": {},
          "execution_count": 48
        }
      ]
    },
    {
      "cell_type": "code",
      "source": [
        "test_df"
      ],
      "metadata": {
        "colab": {
          "base_uri": "https://localhost:8080/",
          "height": 423
        },
        "id": "ScZRvqit_A4-",
        "outputId": "2e9a4470-9fa4-4185-fed8-9a3064dcf443"
      },
      "execution_count": 49,
      "outputs": [
        {
          "output_type": "execute_result",
          "data": {
            "text/plain": [
              "          Id                                            Comment      Topic\n",
              "0     0x1aa9  Personally I have no idea what my IQ is. I’ve ...    Biology\n",
              "1      0x25e  I'm skeptical. A heavier lid would be needed t...    Physics\n",
              "2     0x1248  I think I have 100 cm of books on the subject....    Biology\n",
              "3      0x2b9  Is chemistry hard in uni. Ive read somewhere t...  Chemistry\n",
              "4     0x24af  In addition to the other comment, you can crit...    Physics\n",
              "...      ...                                                ...        ...\n",
              "1581  0x22bf  I’m not really denying your intent. I’m a) dou...  Chemistry\n",
              "1582  0x1f4a  i really empathize with your compassion for bu...    Biology\n",
              "1583  0x27b7  If you want to keep it for more than 2 weeks, ...  Chemistry\n",
              "1584  0x2066  Same here. I’m in nursing school so I only hav...    Biology\n",
              "1585   0x6d6  The video basically says read a pop-sci book a...    Physics\n",
              "\n",
              "[1586 rows x 3 columns]"
            ],
            "text/html": [
              "\n",
              "  <div id=\"df-ed2581e8-6732-4483-b63b-f327555dfd99\">\n",
              "    <div class=\"colab-df-container\">\n",
              "      <div>\n",
              "<style scoped>\n",
              "    .dataframe tbody tr th:only-of-type {\n",
              "        vertical-align: middle;\n",
              "    }\n",
              "\n",
              "    .dataframe tbody tr th {\n",
              "        vertical-align: top;\n",
              "    }\n",
              "\n",
              "    .dataframe thead th {\n",
              "        text-align: right;\n",
              "    }\n",
              "</style>\n",
              "<table border=\"1\" class=\"dataframe\">\n",
              "  <thead>\n",
              "    <tr style=\"text-align: right;\">\n",
              "      <th></th>\n",
              "      <th>Id</th>\n",
              "      <th>Comment</th>\n",
              "      <th>Topic</th>\n",
              "    </tr>\n",
              "  </thead>\n",
              "  <tbody>\n",
              "    <tr>\n",
              "      <th>0</th>\n",
              "      <td>0x1aa9</td>\n",
              "      <td>Personally I have no idea what my IQ is. I’ve ...</td>\n",
              "      <td>Biology</td>\n",
              "    </tr>\n",
              "    <tr>\n",
              "      <th>1</th>\n",
              "      <td>0x25e</td>\n",
              "      <td>I'm skeptical. A heavier lid would be needed t...</td>\n",
              "      <td>Physics</td>\n",
              "    </tr>\n",
              "    <tr>\n",
              "      <th>2</th>\n",
              "      <td>0x1248</td>\n",
              "      <td>I think I have 100 cm of books on the subject....</td>\n",
              "      <td>Biology</td>\n",
              "    </tr>\n",
              "    <tr>\n",
              "      <th>3</th>\n",
              "      <td>0x2b9</td>\n",
              "      <td>Is chemistry hard in uni. Ive read somewhere t...</td>\n",
              "      <td>Chemistry</td>\n",
              "    </tr>\n",
              "    <tr>\n",
              "      <th>4</th>\n",
              "      <td>0x24af</td>\n",
              "      <td>In addition to the other comment, you can crit...</td>\n",
              "      <td>Physics</td>\n",
              "    </tr>\n",
              "    <tr>\n",
              "      <th>...</th>\n",
              "      <td>...</td>\n",
              "      <td>...</td>\n",
              "      <td>...</td>\n",
              "    </tr>\n",
              "    <tr>\n",
              "      <th>1581</th>\n",
              "      <td>0x22bf</td>\n",
              "      <td>I’m not really denying your intent. I’m a) dou...</td>\n",
              "      <td>Chemistry</td>\n",
              "    </tr>\n",
              "    <tr>\n",
              "      <th>1582</th>\n",
              "      <td>0x1f4a</td>\n",
              "      <td>i really empathize with your compassion for bu...</td>\n",
              "      <td>Biology</td>\n",
              "    </tr>\n",
              "    <tr>\n",
              "      <th>1583</th>\n",
              "      <td>0x27b7</td>\n",
              "      <td>If you want to keep it for more than 2 weeks, ...</td>\n",
              "      <td>Chemistry</td>\n",
              "    </tr>\n",
              "    <tr>\n",
              "      <th>1584</th>\n",
              "      <td>0x2066</td>\n",
              "      <td>Same here. I’m in nursing school so I only hav...</td>\n",
              "      <td>Biology</td>\n",
              "    </tr>\n",
              "    <tr>\n",
              "      <th>1585</th>\n",
              "      <td>0x6d6</td>\n",
              "      <td>The video basically says read a pop-sci book a...</td>\n",
              "      <td>Physics</td>\n",
              "    </tr>\n",
              "  </tbody>\n",
              "</table>\n",
              "<p>1586 rows × 3 columns</p>\n",
              "</div>\n",
              "      <button class=\"colab-df-convert\" onclick=\"convertToInteractive('df-ed2581e8-6732-4483-b63b-f327555dfd99')\"\n",
              "              title=\"Convert this dataframe to an interactive table.\"\n",
              "              style=\"display:none;\">\n",
              "        \n",
              "  <svg xmlns=\"http://www.w3.org/2000/svg\" height=\"24px\"viewBox=\"0 0 24 24\"\n",
              "       width=\"24px\">\n",
              "    <path d=\"M0 0h24v24H0V0z\" fill=\"none\"/>\n",
              "    <path d=\"M18.56 5.44l.94 2.06.94-2.06 2.06-.94-2.06-.94-.94-2.06-.94 2.06-2.06.94zm-11 1L8.5 8.5l.94-2.06 2.06-.94-2.06-.94L8.5 2.5l-.94 2.06-2.06.94zm10 10l.94 2.06.94-2.06 2.06-.94-2.06-.94-.94-2.06-.94 2.06-2.06.94z\"/><path d=\"M17.41 7.96l-1.37-1.37c-.4-.4-.92-.59-1.43-.59-.52 0-1.04.2-1.43.59L10.3 9.45l-7.72 7.72c-.78.78-.78 2.05 0 2.83L4 21.41c.39.39.9.59 1.41.59.51 0 1.02-.2 1.41-.59l7.78-7.78 2.81-2.81c.8-.78.8-2.07 0-2.86zM5.41 20L4 18.59l7.72-7.72 1.47 1.35L5.41 20z\"/>\n",
              "  </svg>\n",
              "      </button>\n",
              "      \n",
              "  <style>\n",
              "    .colab-df-container {\n",
              "      display:flex;\n",
              "      flex-wrap:wrap;\n",
              "      gap: 12px;\n",
              "    }\n",
              "\n",
              "    .colab-df-convert {\n",
              "      background-color: #E8F0FE;\n",
              "      border: none;\n",
              "      border-radius: 50%;\n",
              "      cursor: pointer;\n",
              "      display: none;\n",
              "      fill: #1967D2;\n",
              "      height: 32px;\n",
              "      padding: 0 0 0 0;\n",
              "      width: 32px;\n",
              "    }\n",
              "\n",
              "    .colab-df-convert:hover {\n",
              "      background-color: #E2EBFA;\n",
              "      box-shadow: 0px 1px 2px rgba(60, 64, 67, 0.3), 0px 1px 3px 1px rgba(60, 64, 67, 0.15);\n",
              "      fill: #174EA6;\n",
              "    }\n",
              "\n",
              "    [theme=dark] .colab-df-convert {\n",
              "      background-color: #3B4455;\n",
              "      fill: #D2E3FC;\n",
              "    }\n",
              "\n",
              "    [theme=dark] .colab-df-convert:hover {\n",
              "      background-color: #434B5C;\n",
              "      box-shadow: 0px 1px 3px 1px rgba(0, 0, 0, 0.15);\n",
              "      filter: drop-shadow(0px 1px 2px rgba(0, 0, 0, 0.3));\n",
              "      fill: #FFFFFF;\n",
              "    }\n",
              "  </style>\n",
              "\n",
              "      <script>\n",
              "        const buttonEl =\n",
              "          document.querySelector('#df-ed2581e8-6732-4483-b63b-f327555dfd99 button.colab-df-convert');\n",
              "        buttonEl.style.display =\n",
              "          google.colab.kernel.accessAllowed ? 'block' : 'none';\n",
              "\n",
              "        async function convertToInteractive(key) {\n",
              "          const element = document.querySelector('#df-ed2581e8-6732-4483-b63b-f327555dfd99');\n",
              "          const dataTable =\n",
              "            await google.colab.kernel.invokeFunction('convertToInteractive',\n",
              "                                                     [key], {});\n",
              "          if (!dataTable) return;\n",
              "\n",
              "          const docLinkHtml = 'Like what you see? Visit the ' +\n",
              "            '<a target=\"_blank\" href=https://colab.research.google.com/notebooks/data_table.ipynb>data table notebook</a>'\n",
              "            + ' to learn more about interactive tables.';\n",
              "          element.innerHTML = '';\n",
              "          dataTable['output_type'] = 'display_data';\n",
              "          await google.colab.output.renderOutput(dataTable, element);\n",
              "          const docLink = document.createElement('div');\n",
              "          docLink.innerHTML = docLinkHtml;\n",
              "          element.appendChild(docLink);\n",
              "        }\n",
              "      </script>\n",
              "    </div>\n",
              "  </div>\n",
              "  "
            ]
          },
          "metadata": {},
          "execution_count": 49
        }
      ]
    },
    {
      "cell_type": "markdown",
      "source": [
        "# 결측치 제거"
      ],
      "metadata": {
        "id": "upEaNOyD_GWR"
      }
    },
    {
      "cell_type": "markdown",
      "source": [
        "결과: 결측치 없음"
      ],
      "metadata": {
        "id": "S6ujY7OOU-WG"
      }
    },
    {
      "cell_type": "code",
      "source": [
        "train_df.info()"
      ],
      "metadata": {
        "id": "7x3apOl8_Iyb",
        "colab": {
          "base_uri": "https://localhost:8080/"
        },
        "outputId": "901cdada-2b74-43a4-9c66-000a8d09e9b0"
      },
      "execution_count": 13,
      "outputs": [
        {
          "output_type": "stream",
          "name": "stdout",
          "text": [
            "<class 'pandas.core.frame.DataFrame'>\n",
            "RangeIndex: 8695 entries, 0 to 8694\n",
            "Data columns (total 3 columns):\n",
            " #   Column   Non-Null Count  Dtype \n",
            "---  ------   --------------  ----- \n",
            " 0   Id       8695 non-null   object\n",
            " 1   Comment  8695 non-null   object\n",
            " 2   Topic    8695 non-null   object\n",
            "dtypes: object(3)\n",
            "memory usage: 203.9+ KB\n"
          ]
        }
      ]
    },
    {
      "cell_type": "code",
      "source": [
        "train_df.isna().sum() #Check for null values"
      ],
      "metadata": {
        "colab": {
          "base_uri": "https://localhost:8080/"
        },
        "id": "3zTi3hj_tN78",
        "outputId": "86fc5360-c454-4b7f-8e8a-16b7d5427d59"
      },
      "execution_count": 59,
      "outputs": [
        {
          "output_type": "execute_result",
          "data": {
            "text/plain": [
              "Id         0\n",
              "Comment    0\n",
              "Topic      0\n",
              "dtype: int64"
            ]
          },
          "metadata": {},
          "execution_count": 59
        }
      ]
    },
    {
      "cell_type": "code",
      "source": [
        "test_df.info()"
      ],
      "metadata": {
        "colab": {
          "base_uri": "https://localhost:8080/"
        },
        "id": "KXpZFaLZVIm_",
        "outputId": "b23f8d5d-ee56-416c-9fb7-15a3d393fc66"
      },
      "execution_count": 14,
      "outputs": [
        {
          "output_type": "stream",
          "name": "stdout",
          "text": [
            "<class 'pandas.core.frame.DataFrame'>\n",
            "RangeIndex: 1586 entries, 0 to 1585\n",
            "Data columns (total 3 columns):\n",
            " #   Column   Non-Null Count  Dtype \n",
            "---  ------   --------------  ----- \n",
            " 0   Id       1586 non-null   object\n",
            " 1   Comment  1586 non-null   object\n",
            " 2   Topic    1586 non-null   object\n",
            "dtypes: object(3)\n",
            "memory usage: 37.3+ KB\n"
          ]
        }
      ]
    },
    {
      "cell_type": "markdown",
      "source": [
        "# 중복 제거"
      ],
      "metadata": {
        "id": "ITixDJiwVCXn"
      }
    },
    {
      "cell_type": "markdown",
      "source": [
        "결과: 중복 없음"
      ],
      "metadata": {
        "id": "U3PpndUWXCHy"
      }
    },
    {
      "cell_type": "code",
      "source": [
        "# 중복확인\n",
        "train_df.duplicated()"
      ],
      "metadata": {
        "colab": {
          "base_uri": "https://localhost:8080/"
        },
        "id": "yQ2tlZJRWBny",
        "outputId": "250daa5f-139f-4be1-a0e3-3ba2941f1c20"
      },
      "execution_count": 25,
      "outputs": [
        {
          "output_type": "execute_result",
          "data": {
            "text/plain": [
              "0       False\n",
              "1       False\n",
              "2       False\n",
              "3       False\n",
              "4       False\n",
              "        ...  \n",
              "8690    False\n",
              "8691    False\n",
              "8692    False\n",
              "8693    False\n",
              "8694    False\n",
              "Length: 8695, dtype: bool"
            ]
          },
          "metadata": {},
          "execution_count": 25
        }
      ]
    },
    {
      "cell_type": "code",
      "source": [
        "train_df.duplicated().sum() #check for the duplicated rows"
      ],
      "metadata": {
        "colab": {
          "base_uri": "https://localhost:8080/"
        },
        "id": "EHOiI4MWtSvv",
        "outputId": "aae2f7fd-d4ba-4b6c-da7b-2075cf15265e"
      },
      "execution_count": 60,
      "outputs": [
        {
          "output_type": "execute_result",
          "data": {
            "text/plain": [
              "0"
            ]
          },
          "metadata": {},
          "execution_count": 60
        }
      ]
    },
    {
      "cell_type": "code",
      "source": [
        "# 중복제거\n",
        "train_df = train_df.drop_duplicates(subset=[\"Id\", \"Comment\"])"
      ],
      "metadata": {
        "colab": {
          "base_uri": "https://localhost:8080/",
          "height": 423
        },
        "id": "xhC8sIEzXQ6X",
        "outputId": "2b6accfd-0dfb-4785-d1ba-b53f84cbf5cb"
      },
      "execution_count": 32,
      "outputs": [
        {
          "output_type": "execute_result",
          "data": {
            "text/plain": [
              "          Id                                            Comment      Topic\n",
              "0      0x840  A few things. You might have negative- frequen...    Biology\n",
              "1      0xbf0  Is it so hard to believe that there exist part...    Physics\n",
              "2     0x1dfc                                     There are bees    Biology\n",
              "3      0xc7e  I'm a medication technician. And that's alot o...    Biology\n",
              "4      0xbba                     Cesium is such a pretty metal.  Chemistry\n",
              "...      ...                                                ...        ...\n",
              "8690  0x1e02  I make similar observations over the last week...    Biology\n",
              "8691   0xc8d                                    You would know.    Biology\n",
              "8692   0x723            Also use the correct number of sig figs  Chemistry\n",
              "8693   0x667  What about the ethical delimmas,  groundbreaki...    Biology\n",
              "8694  0x1476                          I would like to know too.    Biology\n",
              "\n",
              "[8695 rows x 3 columns]"
            ],
            "text/html": [
              "\n",
              "  <div id=\"df-f0e02555-ec06-4296-8a0c-ef5e816d8185\">\n",
              "    <div class=\"colab-df-container\">\n",
              "      <div>\n",
              "<style scoped>\n",
              "    .dataframe tbody tr th:only-of-type {\n",
              "        vertical-align: middle;\n",
              "    }\n",
              "\n",
              "    .dataframe tbody tr th {\n",
              "        vertical-align: top;\n",
              "    }\n",
              "\n",
              "    .dataframe thead th {\n",
              "        text-align: right;\n",
              "    }\n",
              "</style>\n",
              "<table border=\"1\" class=\"dataframe\">\n",
              "  <thead>\n",
              "    <tr style=\"text-align: right;\">\n",
              "      <th></th>\n",
              "      <th>Id</th>\n",
              "      <th>Comment</th>\n",
              "      <th>Topic</th>\n",
              "    </tr>\n",
              "  </thead>\n",
              "  <tbody>\n",
              "    <tr>\n",
              "      <th>0</th>\n",
              "      <td>0x840</td>\n",
              "      <td>A few things. You might have negative- frequen...</td>\n",
              "      <td>Biology</td>\n",
              "    </tr>\n",
              "    <tr>\n",
              "      <th>1</th>\n",
              "      <td>0xbf0</td>\n",
              "      <td>Is it so hard to believe that there exist part...</td>\n",
              "      <td>Physics</td>\n",
              "    </tr>\n",
              "    <tr>\n",
              "      <th>2</th>\n",
              "      <td>0x1dfc</td>\n",
              "      <td>There are bees</td>\n",
              "      <td>Biology</td>\n",
              "    </tr>\n",
              "    <tr>\n",
              "      <th>3</th>\n",
              "      <td>0xc7e</td>\n",
              "      <td>I'm a medication technician. And that's alot o...</td>\n",
              "      <td>Biology</td>\n",
              "    </tr>\n",
              "    <tr>\n",
              "      <th>4</th>\n",
              "      <td>0xbba</td>\n",
              "      <td>Cesium is such a pretty metal.</td>\n",
              "      <td>Chemistry</td>\n",
              "    </tr>\n",
              "    <tr>\n",
              "      <th>...</th>\n",
              "      <td>...</td>\n",
              "      <td>...</td>\n",
              "      <td>...</td>\n",
              "    </tr>\n",
              "    <tr>\n",
              "      <th>8690</th>\n",
              "      <td>0x1e02</td>\n",
              "      <td>I make similar observations over the last week...</td>\n",
              "      <td>Biology</td>\n",
              "    </tr>\n",
              "    <tr>\n",
              "      <th>8691</th>\n",
              "      <td>0xc8d</td>\n",
              "      <td>You would know.</td>\n",
              "      <td>Biology</td>\n",
              "    </tr>\n",
              "    <tr>\n",
              "      <th>8692</th>\n",
              "      <td>0x723</td>\n",
              "      <td>Also use the correct number of sig figs</td>\n",
              "      <td>Chemistry</td>\n",
              "    </tr>\n",
              "    <tr>\n",
              "      <th>8693</th>\n",
              "      <td>0x667</td>\n",
              "      <td>What about the ethical delimmas,  groundbreaki...</td>\n",
              "      <td>Biology</td>\n",
              "    </tr>\n",
              "    <tr>\n",
              "      <th>8694</th>\n",
              "      <td>0x1476</td>\n",
              "      <td>I would like to know too.</td>\n",
              "      <td>Biology</td>\n",
              "    </tr>\n",
              "  </tbody>\n",
              "</table>\n",
              "<p>8695 rows × 3 columns</p>\n",
              "</div>\n",
              "      <button class=\"colab-df-convert\" onclick=\"convertToInteractive('df-f0e02555-ec06-4296-8a0c-ef5e816d8185')\"\n",
              "              title=\"Convert this dataframe to an interactive table.\"\n",
              "              style=\"display:none;\">\n",
              "        \n",
              "  <svg xmlns=\"http://www.w3.org/2000/svg\" height=\"24px\"viewBox=\"0 0 24 24\"\n",
              "       width=\"24px\">\n",
              "    <path d=\"M0 0h24v24H0V0z\" fill=\"none\"/>\n",
              "    <path d=\"M18.56 5.44l.94 2.06.94-2.06 2.06-.94-2.06-.94-.94-2.06-.94 2.06-2.06.94zm-11 1L8.5 8.5l.94-2.06 2.06-.94-2.06-.94L8.5 2.5l-.94 2.06-2.06.94zm10 10l.94 2.06.94-2.06 2.06-.94-2.06-.94-.94-2.06-.94 2.06-2.06.94z\"/><path d=\"M17.41 7.96l-1.37-1.37c-.4-.4-.92-.59-1.43-.59-.52 0-1.04.2-1.43.59L10.3 9.45l-7.72 7.72c-.78.78-.78 2.05 0 2.83L4 21.41c.39.39.9.59 1.41.59.51 0 1.02-.2 1.41-.59l7.78-7.78 2.81-2.81c.8-.78.8-2.07 0-2.86zM5.41 20L4 18.59l7.72-7.72 1.47 1.35L5.41 20z\"/>\n",
              "  </svg>\n",
              "      </button>\n",
              "      \n",
              "  <style>\n",
              "    .colab-df-container {\n",
              "      display:flex;\n",
              "      flex-wrap:wrap;\n",
              "      gap: 12px;\n",
              "    }\n",
              "\n",
              "    .colab-df-convert {\n",
              "      background-color: #E8F0FE;\n",
              "      border: none;\n",
              "      border-radius: 50%;\n",
              "      cursor: pointer;\n",
              "      display: none;\n",
              "      fill: #1967D2;\n",
              "      height: 32px;\n",
              "      padding: 0 0 0 0;\n",
              "      width: 32px;\n",
              "    }\n",
              "\n",
              "    .colab-df-convert:hover {\n",
              "      background-color: #E2EBFA;\n",
              "      box-shadow: 0px 1px 2px rgba(60, 64, 67, 0.3), 0px 1px 3px 1px rgba(60, 64, 67, 0.15);\n",
              "      fill: #174EA6;\n",
              "    }\n",
              "\n",
              "    [theme=dark] .colab-df-convert {\n",
              "      background-color: #3B4455;\n",
              "      fill: #D2E3FC;\n",
              "    }\n",
              "\n",
              "    [theme=dark] .colab-df-convert:hover {\n",
              "      background-color: #434B5C;\n",
              "      box-shadow: 0px 1px 3px 1px rgba(0, 0, 0, 0.15);\n",
              "      filter: drop-shadow(0px 1px 2px rgba(0, 0, 0, 0.3));\n",
              "      fill: #FFFFFF;\n",
              "    }\n",
              "  </style>\n",
              "\n",
              "      <script>\n",
              "        const buttonEl =\n",
              "          document.querySelector('#df-f0e02555-ec06-4296-8a0c-ef5e816d8185 button.colab-df-convert');\n",
              "        buttonEl.style.display =\n",
              "          google.colab.kernel.accessAllowed ? 'block' : 'none';\n",
              "\n",
              "        async function convertToInteractive(key) {\n",
              "          const element = document.querySelector('#df-f0e02555-ec06-4296-8a0c-ef5e816d8185');\n",
              "          const dataTable =\n",
              "            await google.colab.kernel.invokeFunction('convertToInteractive',\n",
              "                                                     [key], {});\n",
              "          if (!dataTable) return;\n",
              "\n",
              "          const docLinkHtml = 'Like what you see? Visit the ' +\n",
              "            '<a target=\"_blank\" href=https://colab.research.google.com/notebooks/data_table.ipynb>data table notebook</a>'\n",
              "            + ' to learn more about interactive tables.';\n",
              "          element.innerHTML = '';\n",
              "          dataTable['output_type'] = 'display_data';\n",
              "          await google.colab.output.renderOutput(dataTable, element);\n",
              "          const docLink = document.createElement('div');\n",
              "          docLink.innerHTML = docLinkHtml;\n",
              "          element.appendChild(docLink);\n",
              "        }\n",
              "      </script>\n",
              "    </div>\n",
              "  </div>\n",
              "  "
            ]
          },
          "metadata": {},
          "execution_count": 32
        }
      ]
    },
    {
      "cell_type": "code",
      "source": [
        "train_df.head(10).style.set_properties(**{\"background-color\": \"#63B4B8\",\"color\": \"black\",\"border-color\": \"black\"})  # **의 의미가 뭘까?"
      ],
      "metadata": {
        "colab": {
          "base_uri": "https://localhost:8080/",
          "height": 640
        },
        "id": "LchWyGu6XwZq",
        "outputId": "f92b6f04-aaff-44e6-b698-73aef3c4c719"
      },
      "execution_count": 44,
      "outputs": [
        {
          "output_type": "execute_result",
          "data": {
            "text/plain": [
              "<pandas.io.formats.style.Styler at 0x7f516d2d63a0>"
            ],
            "text/html": [
              "<style type=\"text/css\">\n",
              "#T_382af_row0_col0, #T_382af_row0_col1, #T_382af_row0_col2, #T_382af_row1_col0, #T_382af_row1_col1, #T_382af_row1_col2, #T_382af_row2_col0, #T_382af_row2_col1, #T_382af_row2_col2, #T_382af_row3_col0, #T_382af_row3_col1, #T_382af_row3_col2, #T_382af_row4_col0, #T_382af_row4_col1, #T_382af_row4_col2, #T_382af_row5_col0, #T_382af_row5_col1, #T_382af_row5_col2, #T_382af_row6_col0, #T_382af_row6_col1, #T_382af_row6_col2, #T_382af_row7_col0, #T_382af_row7_col1, #T_382af_row7_col2, #T_382af_row8_col0, #T_382af_row8_col1, #T_382af_row8_col2, #T_382af_row9_col0, #T_382af_row9_col1, #T_382af_row9_col2 {\n",
              "  background-color: #63B4B8;\n",
              "  color: black;\n",
              "  border-color: black;\n",
              "}\n",
              "</style>\n",
              "<table id=\"T_382af\" class=\"dataframe\">\n",
              "  <thead>\n",
              "    <tr>\n",
              "      <th class=\"blank level0\" >&nbsp;</th>\n",
              "      <th id=\"T_382af_level0_col0\" class=\"col_heading level0 col0\" >Id</th>\n",
              "      <th id=\"T_382af_level0_col1\" class=\"col_heading level0 col1\" >Comment</th>\n",
              "      <th id=\"T_382af_level0_col2\" class=\"col_heading level0 col2\" >Topic</th>\n",
              "    </tr>\n",
              "  </thead>\n",
              "  <tbody>\n",
              "    <tr>\n",
              "      <th id=\"T_382af_level0_row0\" class=\"row_heading level0 row0\" >0</th>\n",
              "      <td id=\"T_382af_row0_col0\" class=\"data row0 col0\" >0x840</td>\n",
              "      <td id=\"T_382af_row0_col1\" class=\"data row0 col1\" >A few things. You might have negative- frequency dependent selection going on where the least common phenotype, reflected by genotype, is going to have an advantage in the environment. For instance, if a prey animal such as a vole were to have a light and a dark phenotype, a predator might recognize the more common phenotype as food.  So if the light voles are more common, foxes may be keeping a closer eye out for light phenotypic voles, recognising them as good prey. This would reduce the light causing alleles due to increased predation and the dark genotypes would increase their proportion of the population until this scenario is reversed. This cycle continues perpetually. \\n\\nHowever, this is unlikely to be strictly yearly as it usually takes more time than a year for an entire populations allele frequencies to change enough to make a large enough difference to alter fitness. \\n\\nMore likely on a *year to year* basis, the population is experiencing fluctuating selection where alternating conditions in the environment favor one genotype over another. Perhaps a plant species is living in an area that is flooded every other year and the two phenotypes in the population are plants that do much better in the dryer year and one that does better in the wet year. If there is no flooding, the dry-type genotype will have more fitness leading to more offspring and therefore more dry alleles in the population, however, in flooded years the wet-liking phenotype will do better and propagate the wet genes.</td>\n",
              "      <td id=\"T_382af_row0_col2\" class=\"data row0 col2\" >Biology</td>\n",
              "    </tr>\n",
              "    <tr>\n",
              "      <th id=\"T_382af_level0_row1\" class=\"row_heading level0 row1\" >1</th>\n",
              "      <td id=\"T_382af_row1_col0\" class=\"data row1 col0\" >0xbf0</td>\n",
              "      <td id=\"T_382af_row1_col1\" class=\"data row1 col1\" >Is it so hard to believe that there exist particulars out that that we can't detect with anything we've invented so far.\\n\\nI mean look how long it took humans to find out a way to detect radiation.</td>\n",
              "      <td id=\"T_382af_row1_col2\" class=\"data row1 col2\" >Physics</td>\n",
              "    </tr>\n",
              "    <tr>\n",
              "      <th id=\"T_382af_level0_row2\" class=\"row_heading level0 row2\" >2</th>\n",
              "      <td id=\"T_382af_row2_col0\" class=\"data row2 col0\" >0x1dfc</td>\n",
              "      <td id=\"T_382af_row2_col1\" class=\"data row2 col1\" >There are bees</td>\n",
              "      <td id=\"T_382af_row2_col2\" class=\"data row2 col2\" >Biology</td>\n",
              "    </tr>\n",
              "    <tr>\n",
              "      <th id=\"T_382af_level0_row3\" class=\"row_heading level0 row3\" >3</th>\n",
              "      <td id=\"T_382af_row3_col0\" class=\"data row3 col0\" >0xc7e</td>\n",
              "      <td id=\"T_382af_row3_col1\" class=\"data row3 col1\" >I'm a medication technician. And that's alot of drugs on your liver. You probably won't die immediately you'll be fine. Take care of your self tho that's definitely not good for your body</td>\n",
              "      <td id=\"T_382af_row3_col2\" class=\"data row3 col2\" >Biology</td>\n",
              "    </tr>\n",
              "    <tr>\n",
              "      <th id=\"T_382af_level0_row4\" class=\"row_heading level0 row4\" >4</th>\n",
              "      <td id=\"T_382af_row4_col0\" class=\"data row4 col0\" >0xbba</td>\n",
              "      <td id=\"T_382af_row4_col1\" class=\"data row4 col1\" >Cesium is such a pretty metal.</td>\n",
              "      <td id=\"T_382af_row4_col2\" class=\"data row4 col2\" >Chemistry</td>\n",
              "    </tr>\n",
              "    <tr>\n",
              "      <th id=\"T_382af_level0_row5\" class=\"row_heading level0 row5\" >5</th>\n",
              "      <td id=\"T_382af_row5_col0\" class=\"data row5 col0\" >0xb39</td>\n",
              "      <td id=\"T_382af_row5_col1\" class=\"data row5 col1\" >I meant that the question itself is unclear.</td>\n",
              "      <td id=\"T_382af_row5_col2\" class=\"data row5 col2\" >Chemistry</td>\n",
              "    </tr>\n",
              "    <tr>\n",
              "      <th id=\"T_382af_level0_row6\" class=\"row_heading level0 row6\" >6</th>\n",
              "      <td id=\"T_382af_row6_col0\" class=\"data row6 col0\" >0x1f3d</td>\n",
              "      <td id=\"T_382af_row6_col1\" class=\"data row6 col1\" >Shove it up your ass and see what happens</td>\n",
              "      <td id=\"T_382af_row6_col2\" class=\"data row6 col2\" >Biology</td>\n",
              "    </tr>\n",
              "    <tr>\n",
              "      <th id=\"T_382af_level0_row7\" class=\"row_heading level0 row7\" >7</th>\n",
              "      <td id=\"T_382af_row7_col0\" class=\"data row7 col0\" >0x531</td>\n",
              "      <td id=\"T_382af_row7_col1\" class=\"data row7 col1\" >??? I mean it has some butter, but besides that it’s sugar, baking soda, and peanuts, so yeah…</td>\n",
              "      <td id=\"T_382af_row7_col2\" class=\"data row7 col2\" >Chemistry</td>\n",
              "    </tr>\n",
              "    <tr>\n",
              "      <th id=\"T_382af_level0_row8\" class=\"row_heading level0 row8\" >8</th>\n",
              "      <td id=\"T_382af_row8_col0\" class=\"data row8 col0\" >0xe05</td>\n",
              "      <td id=\"T_382af_row8_col1\" class=\"data row8 col1\" >https://t.me/joinchat/3gElLHLuMCxhNGI0</td>\n",
              "      <td id=\"T_382af_row8_col2\" class=\"data row8 col2\" >Biology</td>\n",
              "    </tr>\n",
              "    <tr>\n",
              "      <th id=\"T_382af_level0_row9\" class=\"row_heading level0 row9\" >9</th>\n",
              "      <td id=\"T_382af_row9_col0\" class=\"data row9 col0\" >0x2148</td>\n",
              "      <td id=\"T_382af_row9_col1\" class=\"data row9 col1\" >Well, that’s just the thing. You can’t really induce  an immune response against yourself by introducing a protein that’s already there.</td>\n",
              "      <td id=\"T_382af_row9_col2\" class=\"data row9 col2\" >Biology</td>\n",
              "    </tr>\n",
              "  </tbody>\n",
              "</table>\n"
            ]
          },
          "metadata": {},
          "execution_count": 44
        }
      ]
    },
    {
      "cell_type": "code",
      "source": [
        "train_df.tail(10).style.set_properties(**{\"background-color\": \"#63B4B8\",\"color\": \"black\",\"border-color\": \"black\"})"
      ],
      "metadata": {
        "colab": {
          "base_uri": "https://localhost:8080/",
          "height": 710
        },
        "id": "eoZ9Hmx2w9bF",
        "outputId": "cc6886f7-c1eb-4309-946e-0da839331603"
      },
      "execution_count": 83,
      "outputs": [
        {
          "output_type": "execute_result",
          "data": {
            "text/plain": [
              "<pandas.io.formats.style.Styler at 0x7f5133e117f0>"
            ],
            "text/html": [
              "<style type=\"text/css\">\n",
              "#T_0b781_row0_col0, #T_0b781_row0_col1, #T_0b781_row0_col2, #T_0b781_row1_col0, #T_0b781_row1_col1, #T_0b781_row1_col2, #T_0b781_row2_col0, #T_0b781_row2_col1, #T_0b781_row2_col2, #T_0b781_row3_col0, #T_0b781_row3_col1, #T_0b781_row3_col2, #T_0b781_row4_col0, #T_0b781_row4_col1, #T_0b781_row4_col2, #T_0b781_row5_col0, #T_0b781_row5_col1, #T_0b781_row5_col2, #T_0b781_row6_col0, #T_0b781_row6_col1, #T_0b781_row6_col2, #T_0b781_row7_col0, #T_0b781_row7_col1, #T_0b781_row7_col2, #T_0b781_row8_col0, #T_0b781_row8_col1, #T_0b781_row8_col2, #T_0b781_row9_col0, #T_0b781_row9_col1, #T_0b781_row9_col2 {\n",
              "  background-color: #63B4B8;\n",
              "  color: black;\n",
              "  border-color: black;\n",
              "}\n",
              "</style>\n",
              "<table id=\"T_0b781\" class=\"dataframe\">\n",
              "  <thead>\n",
              "    <tr>\n",
              "      <th class=\"blank level0\" >&nbsp;</th>\n",
              "      <th id=\"T_0b781_level0_col0\" class=\"col_heading level0 col0\" >Id</th>\n",
              "      <th id=\"T_0b781_level0_col1\" class=\"col_heading level0 col1\" >Comment</th>\n",
              "      <th id=\"T_0b781_level0_col2\" class=\"col_heading level0 col2\" >Topic</th>\n",
              "    </tr>\n",
              "  </thead>\n",
              "  <tbody>\n",
              "    <tr>\n",
              "      <th id=\"T_0b781_level0_row0\" class=\"row_heading level0 row0\" >8685</th>\n",
              "      <td id=\"T_0b781_row0_col0\" class=\"data row0 col0\" >0xf74</td>\n",
              "      <td id=\"T_0b781_row0_col1\" class=\"data row0 col1\" >Thank you for your kindness <3 Found this [injured dragon fly](https://news.yahoo.com/news/blogs/sideshow/handfeeding-injured-dragonfly-180758521.html)</td>\n",
              "      <td id=\"T_0b781_row0_col2\" class=\"data row0 col2\" >Biology</td>\n",
              "    </tr>\n",
              "    <tr>\n",
              "      <th id=\"T_0b781_level0_row1\" class=\"row_heading level0 row1\" >8686</th>\n",
              "      <td id=\"T_0b781_row1_col0\" class=\"data row1 col0\" >0x1c7c</td>\n",
              "      <td id=\"T_0b781_row1_col1\" class=\"data row1 col1\" >Are you wanting this to be a \"peel off\" mask? If so, probably going to need the PVA.</td>\n",
              "      <td id=\"T_0b781_row1_col2\" class=\"data row1 col2\" >Chemistry</td>\n",
              "    </tr>\n",
              "    <tr>\n",
              "      <th id=\"T_0b781_level0_row2\" class=\"row_heading level0 row2\" >8687</th>\n",
              "      <td id=\"T_0b781_row2_col0\" class=\"data row2 col0\" >0x187</td>\n",
              "      <td id=\"T_0b781_row2_col1\" class=\"data row2 col1\" >Try to understand everything you do in the lab, as well as to not underestimate quality documentation</td>\n",
              "      <td id=\"T_0b781_row2_col2\" class=\"data row2 col2\" >Chemistry</td>\n",
              "    </tr>\n",
              "    <tr>\n",
              "      <th id=\"T_0b781_level0_row3\" class=\"row_heading level0 row3\" >8688</th>\n",
              "      <td id=\"T_0b781_row3_col0\" class=\"data row3 col0\" >0x133</td>\n",
              "      <td id=\"T_0b781_row3_col1\" class=\"data row3 col1\" >First off, matter can absolutely be created and destroyed. Just not at standard conditions. This is part of what high energy physics deals with. For example, there was a recent experiment at the LHC where photons (massless particles) were merged into bosons (massive particles).\\n\\nYou are asking about the [carbon cycle](https://en.wikipedia.org/wiki/Carbon_cycle). Inorganic carbon, in the form of carbon dioxide, is extracted from the environment, reduced and fixed into organic matter primarily through photosynthesis. Cells do this by harnessing an enthalpy gradient to lower entropy.\\n\\nIf you are asking where all the carbon on Earth comes from - it was generated in stars on the main sequence, from hydrogen, via [nucleosynthesis](https://en.wikipedia.org/wiki/Stellar_nucleosynthesis). We have a fixed and constant amount of carbon.</td>\n",
              "      <td id=\"T_0b781_row3_col2\" class=\"data row3 col2\" >Chemistry</td>\n",
              "    </tr>\n",
              "    <tr>\n",
              "      <th id=\"T_0b781_level0_row4\" class=\"row_heading level0 row4\" >8689</th>\n",
              "      <td id=\"T_0b781_row4_col0\" class=\"data row4 col0\" >0x262</td>\n",
              "      <td id=\"T_0b781_row4_col1\" class=\"data row4 col1\" >Thank You - If I assumed it was an electric heater, what would the formula be?\\n\\nYou are correct, and though this is a sealed propane fireplace, the 50,000BTU of the burner, looses 32% of it’s efficiency due to the chimney.\\n\\nAlso the reason for the question is I have a ‘new’ fireplace installed, that is higher BTU than the old, yet yields no  heat. The manufacture and installer and distributer all were over today, filling the air with techno-garbo of why I should expect a 50,000 BTU fireplace to NOT HEAT A ROOM very well.\\n\\nI did the math 50,000x68%=34,000 BTU actual heat. Now to demonstrate the lack of heat, I converted this to Watts then showed a 1500watt electric heater was hotter than the fireplace. \\n\\nWhat I would like to show a theoretical heat transfer in temperature gain.\\n\\nThanks agin for the time</td>\n",
              "      <td id=\"T_0b781_row4_col2\" class=\"data row4 col2\" >Physics</td>\n",
              "    </tr>\n",
              "    <tr>\n",
              "      <th id=\"T_0b781_level0_row5\" class=\"row_heading level0 row5\" >8690</th>\n",
              "      <td id=\"T_0b781_row5_col0\" class=\"data row5 col0\" >0x1e02</td>\n",
              "      <td id=\"T_0b781_row5_col1\" class=\"data row5 col1\" >I make similar observations over the last weeks (southern Germany) \\nWasps seem to crave for energy / sugar because natural resources are running out because of the season. I guess within some days or weeks, wasps will beginn to hibernate/ die and problem of overly active ones is solved.</td>\n",
              "      <td id=\"T_0b781_row5_col2\" class=\"data row5 col2\" >Biology</td>\n",
              "    </tr>\n",
              "    <tr>\n",
              "      <th id=\"T_0b781_level0_row6\" class=\"row_heading level0 row6\" >8691</th>\n",
              "      <td id=\"T_0b781_row6_col0\" class=\"data row6 col0\" >0xc8d</td>\n",
              "      <td id=\"T_0b781_row6_col1\" class=\"data row6 col1\" >You would know.</td>\n",
              "      <td id=\"T_0b781_row6_col2\" class=\"data row6 col2\" >Biology</td>\n",
              "    </tr>\n",
              "    <tr>\n",
              "      <th id=\"T_0b781_level0_row7\" class=\"row_heading level0 row7\" >8692</th>\n",
              "      <td id=\"T_0b781_row7_col0\" class=\"data row7 col0\" >0x723</td>\n",
              "      <td id=\"T_0b781_row7_col1\" class=\"data row7 col1\" >Also use the correct number of sig figs</td>\n",
              "      <td id=\"T_0b781_row7_col2\" class=\"data row7 col2\" >Chemistry</td>\n",
              "    </tr>\n",
              "    <tr>\n",
              "      <th id=\"T_0b781_level0_row8\" class=\"row_heading level0 row8\" >8693</th>\n",
              "      <td id=\"T_0b781_row8_col0\" class=\"data row8 col0\" >0x667</td>\n",
              "      <td id=\"T_0b781_row8_col1\" class=\"data row8 col1\" >What about the ethical delimmas,  groundbreaking technology, and future research in the field of genetic engineering. Is it safe? What are the strengths?. What are the benefits and whereare we headed? Amongst different cultural and spiritual dynamics, where do we draw the line when it comes to a want and a need? What risks are present and possible for the future of the field?</td>\n",
              "      <td id=\"T_0b781_row8_col2\" class=\"data row8 col2\" >Biology</td>\n",
              "    </tr>\n",
              "    <tr>\n",
              "      <th id=\"T_0b781_level0_row9\" class=\"row_heading level0 row9\" >8694</th>\n",
              "      <td id=\"T_0b781_row9_col0\" class=\"data row9 col0\" >0x1476</td>\n",
              "      <td id=\"T_0b781_row9_col1\" class=\"data row9 col1\" >I would like to know too.</td>\n",
              "      <td id=\"T_0b781_row9_col2\" class=\"data row9 col2\" >Biology</td>\n",
              "    </tr>\n",
              "  </tbody>\n",
              "</table>\n"
            ]
          },
          "metadata": {},
          "execution_count": 83
        }
      ]
    },
    {
      "cell_type": "markdown",
      "source": [
        "# 데이터 전처리"
      ],
      "metadata": {
        "id": "ZKiDfUlpZX0z"
      }
    },
    {
      "cell_type": "code",
      "source": [
        "train_df.dtypes #check the datatypes of dataset"
      ],
      "metadata": {
        "colab": {
          "base_uri": "https://localhost:8080/"
        },
        "id": "6acguZAYryN4",
        "outputId": "bdaeb10c-9713-436f-b096-090d7cf88f4e"
      },
      "execution_count": 50,
      "outputs": [
        {
          "output_type": "execute_result",
          "data": {
            "text/plain": [
              "Id         object\n",
              "Comment    object\n",
              "Topic      object\n",
              "dtype: object"
            ]
          },
          "metadata": {},
          "execution_count": 50
        }
      ]
    },
    {
      "cell_type": "code",
      "source": [
        "train_df['Topic'].value_counts() #Different types of value in \"Topic\" column"
      ],
      "metadata": {
        "colab": {
          "base_uri": "https://localhost:8080/"
        },
        "id": "BEXJCwWUr4VT",
        "outputId": "bf9c5fea-38f6-4dbf-88f0-c85bdc4dc35f"
      },
      "execution_count": 51,
      "outputs": [
        {
          "output_type": "execute_result",
          "data": {
            "text/plain": [
              "Biology      3591\n",
              "Chemistry    2920\n",
              "Physics      2184\n",
              "Name: Topic, dtype: int64"
            ]
          },
          "metadata": {},
          "execution_count": 51
        }
      ]
    },
    {
      "cell_type": "code",
      "source": [
        "plt.figure(figsize=(10,5))\n",
        "sns.countplot(x = train_df['Topic'], order = train_df[\"Topic\"].value_counts().index)\n",
        "plt.title(\"Topic v/s Comments\",fontsize = 18,fontweight = 'bold')\n",
        "plt.xlabel(\"Topic\",fontsize = 13,fontweight = 'bold')\n",
        "plt.ylabel(\"Count\",fontsize=13,fontweight = 'bold')\n",
        "plt.show()"
      ],
      "metadata": {
        "colab": {
          "base_uri": "https://localhost:8080/",
          "height": 357
        },
        "id": "8H5VyslUsIdc",
        "outputId": "d7a4d3a1-14a1-4fc8-c2b1-cb477ba9b27c"
      },
      "execution_count": 58,
      "outputs": [
        {
          "output_type": "display_data",
          "data": {
            "text/plain": [
              "<Figure size 720x360 with 1 Axes>"
            ],
            "image/png": "[encoded data removed]"
          },
          "metadata": {
            "needs_background": "light"
          }
        }
      ]
    },
    {
      "cell_type": "code",
      "source": [
        "words_per_comments_train_df = train_df.Comment.map(lambda x : len(x.split()))"
      ],
      "metadata": {
        "id": "hOoM3gyot3f1"
      },
      "execution_count": 62,
      "outputs": []
    },
    {
      "cell_type": "code",
      "source": [
        "words_per_comments_train_df"
      ],
      "metadata": {
        "colab": {
          "base_uri": "https://localhost:8080/"
        },
        "id": "otKUPeHQt8Xi",
        "outputId": "43771f55-10f1-48a5-ff36-ac9e9eacc672"
      },
      "execution_count": 63,
      "outputs": [
        {
          "output_type": "execute_result",
          "data": {
            "text/plain": [
              "0       254\n",
              "1        37\n",
              "2         3\n",
              "3        33\n",
              "4         6\n",
              "       ... \n",
              "8690     49\n",
              "8691      3\n",
              "8692      8\n",
              "8693     64\n",
              "8694      6\n",
              "Name: Comment, Length: 8695, dtype: int64"
            ]
          },
          "metadata": {},
          "execution_count": 63
        }
      ]
    },
    {
      "cell_type": "code",
      "source": [
        "plt.figure(figsize=(30,10))\n",
        "sns.countplot(x = words_per_comments_train_df)\n",
        "plt.title(\"length per comments\",fontsize = 18,fontweight = 'bold')\n",
        "plt.xlabel(\"comments\",fontsize = 13,fontweight = 'bold')\n",
        "plt.ylabel(\"length\",fontsize=13,fontweight = 'bold')\n",
        "plt.show()"
      ],
      "metadata": {
        "colab": {
          "base_uri": "https://localhost:8080/",
          "height": 649
        },
        "id": "jzT6GTPKuGZG",
        "outputId": "4b867831-ca07-4f9c-fac7-99259b54a282"
      },
      "execution_count": 70,
      "outputs": [
        {
          "output_type": "display_data",
          "data": {
            "text/plain": [
              "<Figure size 2160x720 with 1 Axes>"
            ],
            "image/png": "[encoded data removed]"
          },
          "metadata": {
            "needs_background": "light"
          }
        }
      ]
    },
    {
      "cell_type": "code",
      "source": [
        "sns.distplot(words_per_comments_train)\n",
        "plt.title(\"Train: Distribution of words per comment\")\n",
        "plt.xlabel(\"Word count\")"
      ],
      "metadata": {
        "colab": {
          "base_uri": "https://localhost:8080/",
          "height": 516
        },
        "id": "vQ81GbcZvQKu",
        "outputId": "cf7bbce4-76ef-4730-9170-35c7925fd98a"
      },
      "execution_count": 71,
      "outputs": [
        {
          "output_type": "stream",
          "name": "stderr",
          "text": [
            "<ipython-input-71-19b4a8867e91>:1: UserWarning: \n",
            "\n",
            "`distplot` is a deprecated function and will be removed in seaborn v0.14.0.\n",
            "\n",
            "Please adapt your code to use either `displot` (a figure-level function with\n",
            "similar flexibility) or `histplot` (an axes-level function for histograms).\n",
            "\n",
            "For a guide to updating your code to use the new functions, please see\n",
            "https://gist.github.com/mwaskom/de44147ed2974457ad6372750bbe5751\n",
            "\n",
            "  sns.distplot(words_per_comments_train)\n"
          ]
        },
        {
          "output_type": "execute_result",
          "data": {
            "text/plain": [
              "Text(0.5, 0, 'Word count')"
            ]
          },
          "metadata": {},
          "execution_count": 71
        },
        {
          "output_type": "display_data",
          "data": {
            "text/plain": [
              "<Figure size 432x288 with 1 Axes>"
            ],
            "image/png": "[encoded data removed]"
          },
          "metadata": {
            "needs_background": "light"
          }
        }
      ]
    },
    {
      "cell_type": "code",
      "source": [
        "min(words_per_comments_train),max(words_per_comments_train)"
      ],
      "metadata": {
        "colab": {
          "base_uri": "https://localhost:8080/"
        },
        "id": "oI9vkEIoum1X",
        "outputId": "ffb3a095-a732-4805-b826-64cead40764d"
      },
      "execution_count": 72,
      "outputs": [
        {
          "output_type": "execute_result",
          "data": {
            "text/plain": [
              "(1, 1274)"
            ]
          },
          "metadata": {},
          "execution_count": 72
        }
      ]
    },
    {
      "cell_type": "code",
      "source": [
        "words_per_comments_test_df = test_df.Comment.map(lambda x : len(x.split()))"
      ],
      "metadata": {
        "id": "bccCwpySvvJ-"
      },
      "execution_count": 75,
      "outputs": []
    },
    {
      "cell_type": "code",
      "source": [
        "words_per_comments_test_df"
      ],
      "metadata": {
        "colab": {
          "base_uri": "https://localhost:8080/"
        },
        "id": "JeXL3RaXv6hs",
        "outputId": "576f7f17-0fd9-4ea6-dc89-fde275783bd4"
      },
      "execution_count": 76,
      "outputs": [
        {
          "output_type": "execute_result",
          "data": {
            "text/plain": [
              "0        52\n",
              "1        34\n",
              "2       148\n",
              "3        34\n",
              "4        58\n",
              "       ... \n",
              "1581    186\n",
              "1582     49\n",
              "1583     60\n",
              "1584     37\n",
              "1585     33\n",
              "Name: Comment, Length: 1586, dtype: int64"
            ]
          },
          "metadata": {},
          "execution_count": 76
        }
      ]
    },
    {
      "cell_type": "code",
      "source": [
        "plt.figure(figsize=(30,10))\n",
        "sns.countplot(x = words_per_comments_test_df)\n",
        "plt.title(\"length per comments\",fontsize = 18,fontweight = 'bold')\n",
        "plt.xlabel(\"comments\",fontsize = 13,fontweight = 'bold')\n",
        "plt.ylabel(\"length\",fontsize=13,fontweight = 'bold')\n",
        "plt.show()"
      ],
      "metadata": {
        "colab": {
          "base_uri": "https://localhost:8080/",
          "height": 351
        },
        "id": "WsLaw57Bv9JP",
        "outputId": "ce245e9a-bd87-42d5-f0d1-35171cb4a2c9"
      },
      "execution_count": 77,
      "outputs": [
        {
          "output_type": "display_data",
          "data": {
            "text/plain": [
              "<Figure size 2160x720 with 1 Axes>"
            ],
            "image/png": "[encoded data removed]"
          },
          "metadata": {
            "needs_background": "light"
          }
        }
      ]
    },
    {
      "cell_type": "code",
      "source": [
        "sns.distplot(words_per_comments_test_df)\n",
        "plt.title(\"Test: Distribution of words per comment\")\n",
        "plt.xlabel(\"Word count\")"
      ],
      "metadata": {
        "colab": {
          "base_uri": "https://localhost:8080/",
          "height": 516
        },
        "id": "vgi1-CYJwERQ",
        "outputId": "7a8ad006-5a36-40db-a9d5-7834b57d5b29"
      },
      "execution_count": 78,
      "outputs": [
        {
          "output_type": "stream",
          "name": "stderr",
          "text": [
            "<ipython-input-78-effcdcbf6dd5>:1: UserWarning: \n",
            "\n",
            "`distplot` is a deprecated function and will be removed in seaborn v0.14.0.\n",
            "\n",
            "Please adapt your code to use either `displot` (a figure-level function with\n",
            "similar flexibility) or `histplot` (an axes-level function for histograms).\n",
            "\n",
            "For a guide to updating your code to use the new functions, please see\n",
            "https://gist.github.com/mwaskom/de44147ed2974457ad6372750bbe5751\n",
            "\n",
            "  sns.distplot(words_per_comments_test_df)\n"
          ]
        },
        {
          "output_type": "execute_result",
          "data": {
            "text/plain": [
              "Text(0.5, 0, 'Word count')"
            ]
          },
          "metadata": {},
          "execution_count": 78
        },
        {
          "output_type": "display_data",
          "data": {
            "text/plain": [
              "<Figure size 432x288 with 1 Axes>"
            ],
            "image/png": "[encoded data removed]"
          },
          "metadata": {
            "needs_background": "light"
          }
        }
      ]
    },
    {
      "cell_type": "code",
      "source": [
        "plt.figure(figsize=(10,5))\n",
        "sns.countplot(x = test_df['Topic'], order = train_df[\"Topic\"].value_counts().index)\n",
        "plt.title(\"Topic v/s Comments\",fontsize = 18,fontweight = 'bold')\n",
        "plt.xlabel(\"Topic\",fontsize = 13,fontweight = 'bold')\n",
        "plt.ylabel(\"Count\",fontsize=13,fontweight = 'bold')\n",
        "plt.show()"
      ],
      "metadata": {
        "colab": {
          "base_uri": "https://localhost:8080/",
          "height": 357
        },
        "id": "tRCjiE4MwRds",
        "outputId": "f1f46cb8-6dcf-4e5a-8c5e-4096bf971158"
      },
      "execution_count": 81,
      "outputs": [
        {
          "output_type": "display_data",
          "data": {
            "text/plain": [
              "<Figure size 720x360 with 1 Axes>"
            ],
            "image/png": "[encoded data removed]"
          },
          "metadata": {
            "needs_background": "light"
          }
        }
      ]
    },
    {
      "cell_type": "markdown",
      "source": [
        "# 머신러닝 모델"
      ],
      "metadata": {
        "id": "XvIrIeEZwyVS"
      }
    },
    {
      "cell_type": "code",
      "source": [
        "# 머신러닝 모델\n",
        "from sklearn.feature_extraction.text import TfidfVectorizer\n",
        "from sklearn.naive_bayes import MultinomialNB\n",
        "\n",
        "from sklearn import metrics\n",
        "\n",
        "import warnings\n",
        "warnings.filterwarnings(\"ignore\")"
      ],
      "metadata": {
        "id": "I8imEIZFw1eP"
      },
      "execution_count": 84,
      "outputs": []
    },
    {
      "cell_type": "code",
      "source": [
        "# Create the vectorizer \n",
        "tfi_df = TfidfVectorizer(stop_words='english')\n",
        "\n",
        "# fit the vectorizer on train data\n",
        "tfi_df.fit(train_df.Comment)"
      ],
      "metadata": {
        "colab": {
          "base_uri": "https://localhost:8080/",
          "height": 75
        },
        "id": "hYtJ3fbzxUIW",
        "outputId": "519cafce-910a-47af-951c-4c23296634af"
      },
      "execution_count": 86,
      "outputs": [
        {
          "output_type": "execute_result",
          "data": {
            "text/plain": [
              "TfidfVectorizer(stop_words='english')"
            ],
            "text/html": [
              "<style>#sk-container-id-2 {color: black;background-color: white;}#sk-container-id-2 pre{padding: 0;}#sk-container-id-2 div.sk-toggleable {background-color: white;}#sk-container-id-2 label.sk-toggleable__label {cursor: pointer;display: block;width: 100%;margin-bottom: 0;padding: 0.3em;box-sizing: border-box;text-align: center;}#sk-container-id-2 label.sk-toggleable__label-arrow:before {content: \"▸\";float: left;margin-right: 0.25em;color: #696969;}#sk-container-id-2 label.sk-toggleable__label-arrow:hover:before {color: black;}#sk-container-id-2 div.sk-estimator:hover label.sk-toggleable__label-arrow:before {color: black;}#sk-container-id-2 div.sk-toggleable__content {max-height: 0;max-width: 0;overflow: hidden;text-align: left;background-color: #f0f8ff;}#sk-container-id-2 div.sk-toggleable__content pre {margin: 0.2em;color: black;border-radius: 0.25em;background-color: #f0f8ff;}#sk-container-id-2 input.sk-toggleable__control:checked~div.sk-toggleable__content {max-height: 200px;max-width: 100%;overflow: auto;}#sk-container-id-2 input.sk-toggleable__control:checked~label.sk-toggleable__label-arrow:before {content: \"▾\";}#sk-container-id-2 div.sk-estimator input.sk-toggleable__control:checked~label.sk-toggleable__label {background-color: #d4ebff;}#sk-container-id-2 div.sk-label input.sk-toggleable__control:checked~label.sk-toggleable__label {background-color: #d4ebff;}#sk-container-id-2 input.sk-hidden--visually {border: 0;clip: rect(1px 1px 1px 1px);clip: rect(1px, 1px, 1px, 1px);height: 1px;margin: -1px;overflow: hidden;padding: 0;position: absolute;width: 1px;}#sk-container-id-2 div.sk-estimator {font-family: monospace;background-color: #f0f8ff;border: 1px dotted black;border-radius: 0.25em;box-sizing: border-box;margin-bottom: 0.5em;}#sk-container-id-2 div.sk-estimator:hover {background-color: #d4ebff;}#sk-container-id-2 div.sk-parallel-item::after {content: \"\";width: 100%;border-bottom: 1px solid gray;flex-grow: 1;}#sk-container-id-2 div.sk-label:hover label.sk-toggleable__label {background-color: #d4ebff;}#sk-container-id-2 div.sk-serial::before {content: \"\";position: absolute;border-left: 1px solid gray;box-sizing: border-box;top: 0;bottom: 0;left: 50%;z-index: 0;}#sk-container-id-2 div.sk-serial {display: flex;flex-direction: column;align-items: center;background-color: white;padding-right: 0.2em;padding-left: 0.2em;position: relative;}#sk-container-id-2 div.sk-item {position: relative;z-index: 1;}#sk-container-id-2 div.sk-parallel {display: flex;align-items: stretch;justify-content: center;background-color: white;position: relative;}#sk-container-id-2 div.sk-item::before, #sk-container-id-2 div.sk-parallel-item::before {content: \"\";position: absolute;border-left: 1px solid gray;box-sizing: border-box;top: 0;bottom: 0;left: 50%;z-index: -1;}#sk-container-id-2 div.sk-parallel-item {display: flex;flex-direction: column;z-index: 1;position: relative;background-color: white;}#sk-container-id-2 div.sk-parallel-item:first-child::after {align-self: flex-end;width: 50%;}#sk-container-id-2 div.sk-parallel-item:last-child::after {align-self: flex-start;width: 50%;}#sk-container-id-2 div.sk-parallel-item:only-child::after {width: 0;}#sk-container-id-2 div.sk-dashed-wrapped {border: 1px dashed gray;margin: 0 0.4em 0.5em 0.4em;box-sizing: border-box;padding-bottom: 0.4em;background-color: white;}#sk-container-id-2 div.sk-label label {font-family: monospace;font-weight: bold;display: inline-block;line-height: 1.2em;}#sk-container-id-2 div.sk-label-container {text-align: center;}#sk-container-id-2 div.sk-container {/* jupyter's `normalize.less` sets `[hidden] { display: none; }` but bootstrap.min.css set `[hidden] { display: none !important; }` so we also need the `!important` here to be able to override the default hidden behavior on the sphinx rendered scikit-learn.org. See: https://github.com/scikit-learn/scikit-learn/issues/21755 */display: inline-block !important;position: relative;}#sk-container-id-2 div.sk-text-repr-fallback {display: none;}</style><div id=\"sk-container-id-2\" class=\"sk-top-container\"><div class=\"sk-text-repr-fallback\"><pre>TfidfVectorizer(stop_words=&#x27;english&#x27;)</pre><b>In a Jupyter environment, please rerun this cell to show the HTML representation or trust the notebook. <br />On GitHub, the HTML representation is unable to render, please try loading this page with nbviewer.org.</b></div><div class=\"sk-container\" hidden><div class=\"sk-item\"><div class=\"sk-estimator sk-toggleable\"><input class=\"sk-toggleable__control sk-hidden--visually\" id=\"sk-estimator-id-2\" type=\"checkbox\" checked><label for=\"sk-estimator-id-2\" class=\"sk-toggleable__label sk-toggleable__label-arrow\">TfidfVectorizer</label><div class=\"sk-toggleable__content\"><pre>TfidfVectorizer(stop_words=&#x27;english&#x27;)</pre></div></div></div></div></div>"
            ]
          },
          "metadata": {},
          "execution_count": 86
        }
      ]
    },
    {
      "cell_type": "markdown",
      "source": [
        "훈련 데이터 학습"
      ],
      "metadata": {
        "id": "0gxc0T2jzVca"
      }
    },
    {
      "cell_type": "code",
      "source": [
        "features = tfi_df.transform(train_df.Comment).toarray()\n",
        "features.shape"
      ],
      "metadata": {
        "colab": {
          "base_uri": "https://localhost:8080/"
        },
        "id": "sAZi2kRnx_0B",
        "outputId": "e4435c44-b08f-4ffb-926e-88c46d2b3b00"
      },
      "execution_count": 87,
      "outputs": [
        {
          "output_type": "execute_result",
          "data": {
            "text/plain": [
              "(8695, 17888)"
            ]
          },
          "metadata": {},
          "execution_count": 87
        }
      ]
    },
    {
      "cell_type": "code",
      "source": [
        "label = train_df.Topic "
      ],
      "metadata": {
        "id": "zSuprYvSyq3O"
      },
      "execution_count": 88,
      "outputs": []
    },
    {
      "cell_type": "code",
      "source": [
        "clf = MultinomialNB()"
      ],
      "metadata": {
        "id": "ZPbtwkIwyuzO"
      },
      "execution_count": 89,
      "outputs": []
    },
    {
      "cell_type": "code",
      "source": [
        "clf = clf.fit(features, label)"
      ],
      "metadata": {
        "id": "4WDS-UEBywwL"
      },
      "execution_count": 95,
      "outputs": []
    },
    {
      "cell_type": "code",
      "source": [
        "test_actual = test_df.Topic"
      ],
      "metadata": {
        "id": "Rb6iBJapyzuV"
      },
      "execution_count": 96,
      "outputs": []
    },
    {
      "cell_type": "code",
      "source": [
        "test_features = tfi_df.transform(test_df.Comment).toarray()\n",
        "test_features.shape"
      ],
      "metadata": {
        "colab": {
          "base_uri": "https://localhost:8080/"
        },
        "id": "tQIAeiVuy3tK",
        "outputId": "c7337650-63d5-4d79-9ee2-72decacc5817"
      },
      "execution_count": 97,
      "outputs": [
        {
          "output_type": "execute_result",
          "data": {
            "text/plain": [
              "(1586, 17888)"
            ]
          },
          "metadata": {},
          "execution_count": 97
        }
      ]
    },
    {
      "cell_type": "markdown",
      "source": [
        "테스트 데이터 실햄"
      ],
      "metadata": {
        "id": "y4HJs9uQzaBj"
      }
    },
    {
      "cell_type": "code",
      "source": [
        "test_prediction = clf.predict(test_features)"
      ],
      "metadata": {
        "id": "SYm4AlE7y7rU"
      },
      "execution_count": 99,
      "outputs": []
    },
    {
      "cell_type": "code",
      "source": [
        "test_score = 100*(metrics.accuracy_score(test_actual , test_prediction ))\n",
        "\n",
        "print(test_score)"
      ],
      "metadata": {
        "colab": {
          "base_uri": "https://localhost:8080/"
        },
        "id": "7G_nCZv8y-_h",
        "outputId": "86f8965f-8fe3-43b9-be5e-017eb82942b7"
      },
      "execution_count": 100,
      "outputs": [
        {
          "output_type": "stream",
          "name": "stdout",
          "text": [
            "81.84110970996217\n"
          ]
        }
      ]
    },
    {
      "cell_type": "markdown",
      "source": [
        "여기까지 기본적인 머신러닝 실습 연습"
      ],
      "metadata": {
        "id": "MaePAjvizjQz"
      }
    }
  ]
}